{
 "cells": [
  {
   "cell_type": "code",
   "execution_count": 1,
   "metadata": {},
   "outputs": [],
   "source": [
    "#run following python script\n",
    "#total number of months included in the dataset\n",
    "#total amount of revanue gained over the entire period\n",
    "#average change in revenue between months over the entire period\n",
    "#the greatest increase in revenue (date and amount) over the entire period\n",
    "#the greatest decrease in revenue (date and amount) over the entire period"
   ]
  },
  {
   "cell_type": "code",
   "execution_count": 2,
   "metadata": {},
   "outputs": [],
   "source": [
    "import pandas as pd"
   ]
  },
  {
   "cell_type": "code",
   "execution_count": 3,
   "metadata": {},
   "outputs": [],
   "source": [
    "data_file = \"../PyBank/budget_data_1.csv\""
   ]
  },
  {
   "cell_type": "code",
   "execution_count": 4,
   "metadata": {},
   "outputs": [],
   "source": [
    "#set up the data to see the heads of columns\n",
    "data_df = pd.read_csv(data_file)\n",
    "data_df.head()\n",
    "df = data_df\n"
   ]
  },
  {
   "cell_type": "code",
   "execution_count": 5,
   "metadata": {},
   "outputs": [
    {
     "data": {
      "text/plain": [
       "41"
      ]
     },
     "execution_count": 5,
     "metadata": {},
     "output_type": "execute_result"
    }
   ],
   "source": [
    "#total date\n",
    "total_date = data_df[\"Date\"].count()\n",
    "total_date"
   ]
  },
  {
   "cell_type": "code",
   "execution_count": 6,
   "metadata": {},
   "outputs": [
    {
     "data": {
      "text/plain": [
       "18971412"
      ]
     },
     "execution_count": 6,
     "metadata": {},
     "output_type": "execute_result"
    }
   ],
   "source": [
    "#total revenue\n",
    "total_revenue = data_df[\"Revenue\"].sum()\n",
    "total_revenue"
   ]
  },
  {
   "cell_type": "code",
   "execution_count": 7,
   "metadata": {},
   "outputs": [
    {
     "data": {
      "text/plain": [
       "462717.3658536585"
      ]
     },
     "execution_count": 7,
     "metadata": {},
     "output_type": "execute_result"
    }
   ],
   "source": [
    "#average amount in revenue between months\n",
    "average_revenue = total_revenue/total_date\n",
    "average_revenue"
   ]
  },
  {
   "cell_type": "code",
   "execution_count": 8,
   "metadata": {},
   "outputs": [
    {
     "data": {
      "text/plain": [
       "462717.37"
      ]
     },
     "execution_count": 8,
     "metadata": {},
     "output_type": "execute_result"
    }
   ],
   "source": [
    "#BONUS: round value of average amount to two decimal points\n",
    "round_total = average_revenue.round(2)\n",
    "round_total"
   ]
  },
  {
   "cell_type": "code",
   "execution_count": 9,
   "metadata": {},
   "outputs": [
    {
     "data": {
      "text/plain": [
       "Date        Sep-15\n",
       "Revenue    1195111\n",
       "Name: 35, dtype: object"
      ]
     },
     "execution_count": 9,
     "metadata": {},
     "output_type": "execute_result"
    }
   ],
   "source": [
    "#the greatest increase in revenue (date and amount) over the entire period\n",
    "df.loc[df['Revenue'].idxmax()]"
   ]
  },
  {
   "cell_type": "code",
   "execution_count": 10,
   "metadata": {},
   "outputs": [
    {
     "data": {
      "text/plain": [
       "Date         Aug-14\n",
       "Revenue    -1172384\n",
       "Name: 22, dtype: object"
      ]
     },
     "execution_count": 10,
     "metadata": {},
     "output_type": "execute_result"
    }
   ],
   "source": [
    "#the greatest decrease in revenue (date and amount) over the entire period\n",
    "df.loc[df['Revenue'].idxmin()]"
   ]
  },
  {
   "cell_type": "code",
   "execution_count": 14,
   "metadata": {},
   "outputs": [
    {
     "data": {
      "text/html": [
       "<div>\n",
       "<style scoped>\n",
       "    .dataframe tbody tr th:only-of-type {\n",
       "        vertical-align: middle;\n",
       "    }\n",
       "\n",
       "    .dataframe tbody tr th {\n",
       "        vertical-align: top;\n",
       "    }\n",
       "\n",
       "    .dataframe thead th {\n",
       "        text-align: right;\n",
       "    }\n",
       "</style>\n",
       "<table border=\"1\" class=\"dataframe\">\n",
       "  <thead>\n",
       "    <tr style=\"text-align: right;\">\n",
       "      <th></th>\n",
       "      <th>Average Amount</th>\n",
       "      <th>Greatest Decrease Value</th>\n",
       "      <th>Greatest Increase Value</th>\n",
       "      <th>Total Months</th>\n",
       "      <th>Total Revenue</th>\n",
       "    </tr>\n",
       "  </thead>\n",
       "  <tbody>\n",
       "    <tr>\n",
       "      <th>0</th>\n",
       "      <td>462717.37</td>\n",
       "      <td>-1172384</td>\n",
       "      <td>1195111</td>\n",
       "      <td>41</td>\n",
       "      <td>18971412</td>\n",
       "    </tr>\n",
       "  </tbody>\n",
       "</table>\n",
       "</div>"
      ],
      "text/plain": [
       "   Average Amount  Greatest Decrease Value  Greatest Increase Value  \\\n",
       "0       462717.37                 -1172384                  1195111   \n",
       "\n",
       "   Total Months  Total Revenue  \n",
       "0            41       18971412  "
      ]
     },
     "execution_count": 14,
     "metadata": {},
     "output_type": "execute_result"
    }
   ],
   "source": [
    "#summary\n",
    "\n",
    "summary = pd.DataFrame(\n",
    "            {\"Total Months\": total_date,\n",
    "            \"Total Revenue\": total_revenue,\n",
    "            \"Average Amount\": [round_total],\n",
    "            \"Greatest Increase Value\": [df['Revenue'].max()],\n",
    "            \"Greatest Decrease Value\": [df['Revenue'].min()]\n",
    "            })\n",
    "summary"
   ]
  },
  {
   "cell_type": "code",
   "execution_count": 15,
   "metadata": {},
   "outputs": [
    {
     "data": {
      "text/html": [
       "<div>\n",
       "<style scoped>\n",
       "    .dataframe tbody tr th:only-of-type {\n",
       "        vertical-align: middle;\n",
       "    }\n",
       "\n",
       "    .dataframe tbody tr th {\n",
       "        vertical-align: top;\n",
       "    }\n",
       "\n",
       "    .dataframe thead th {\n",
       "        text-align: right;\n",
       "    }\n",
       "</style>\n",
       "<table border=\"1\" class=\"dataframe\">\n",
       "  <thead>\n",
       "    <tr style=\"text-align: right;\">\n",
       "      <th></th>\n",
       "      <th>Total Months</th>\n",
       "      <th>Total Revenue</th>\n",
       "      <th>Average Amount</th>\n",
       "      <th>Greatest Increase Value</th>\n",
       "      <th>Greatest Decrease Value</th>\n",
       "    </tr>\n",
       "  </thead>\n",
       "  <tbody>\n",
       "    <tr>\n",
       "      <th>0</th>\n",
       "      <td>41</td>\n",
       "      <td>18971412</td>\n",
       "      <td>462717.37</td>\n",
       "      <td>1195111</td>\n",
       "      <td>-1172384</td>\n",
       "    </tr>\n",
       "  </tbody>\n",
       "</table>\n",
       "</div>"
      ],
      "text/plain": [
       "   Total Months  Total Revenue  Average Amount  Greatest Increase Value  \\\n",
       "0            41       18971412       462717.37                  1195111   \n",
       "\n",
       "   Greatest Decrease Value  \n",
       "0                 -1172384  "
      ]
     },
     "execution_count": 15,
     "metadata": {},
     "output_type": "execute_result"
    }
   ],
   "source": [
    "#Final Summary\n",
    "\n",
    "re_summary = summary[[\"Total Months\",\"Total Revenue\",\"Average Amount\", \"Greatest Increase Value\",\"Greatest Decrease Value\"]]\n",
    "re_summary.head()"
   ]
  },
  {
   "cell_type": "code",
   "execution_count": null,
   "metadata": {},
   "outputs": [],
   "source": []
  }
 ],
 "metadata": {
  "kernelspec": {
   "display_name": "Python 3",
   "language": "python",
   "name": "python3"
  },
  "language_info": {
   "codemirror_mode": {
    "name": "ipython",
    "version": 3
   },
   "file_extension": ".py",
   "mimetype": "text/x-python",
   "name": "python",
   "nbconvert_exporter": "python",
   "pygments_lexer": "ipython3",
   "version": "3.6.4"
  }
 },
 "nbformat": 4,
 "nbformat_minor": 2
}
